{
 "cells": [
  {
   "cell_type": "markdown",
   "id": "6a6c3649",
   "metadata": {},
   "source": [
    "## ASCII Art Encoding\n",
    "\n",
    "Write a function \"encodeString\" that will encode a string like 'AAAAABBBBAAA' as a list of tuples: [('A', 5), ('B', 4), ('A', 3)] meaning that the string has \"5 A's, followed by 4 B's, followed by 3 A's\"\n",
    "\n",
    "Then use that function to compress a string containing \"ASCII Art\" (https://en.wikipedia.org/wiki/ASCII_art)\n",
    "\n",
    "Write a corresponding function \"decodeString\" that will take in a list of tuples and print the original string.\n"
   ]
  },
  {
   "cell_type": "code",
   "execution_count": 5,
   "id": "7777d38e",
   "metadata": {},
   "outputs": [],
   "source": [
    "def encodeString(stringVal):\n",
    "    lines = stringVal.split('\\n')\n",
    "    artSets = [list(set(line)) for line in stringVal.split('\\n')]\n",
    "    counter = 0\n",
    "    encodeList = [tuple()]\n",
    "    newlineTuple = (1, '\\n')\n",
    "    while (counter < len(lines)):\n",
    "        if len(artSets[counter]) == 0:\n",
    "           encodeList.append(newlineTuple)\n",
    "        else:\n",
    "           if len(artSets[counter]) == 1:\n",
    "               encodeTuple = (len(lines[counter]), artSets[counter][0])\n",
    "               encodeList.append(encodeTuple)\n",
    "               encodeList.append(newlineTuple)\n",
    "           else:\n",
    "               i = 1\n",
    "               countChar = 1\n",
    "               currentLine =  lines[counter]\n",
    "               while (len(currentLine) > i):\n",
    "                    currentChar = currentLine[i -1 ]\n",
    "                    if currentChar == currentLine[i]:\n",
    "                        countChar = countChar + 1\n",
    "                    else:\n",
    "                        encodeTuple = (countChar, currentChar)\n",
    "                        print(encodeTuple)\n",
    "                        encodeList.append(encodeTuple)\n",
    "                        countChar = 1\n",
    "                        #print('currentChar = \\'' + currentChar + '\\' next Char = \\'' + currentLine[i] + '\\'') \n",
    "                    i = i + 1\n",
    "               encodeTuple = (countChar, currentChar)\n",
    "               print(encodeTuple)\n",
    "               encodeList.append(encodeTuple)\n",
    "               encodeList.append(newlineTuple)\n",
    "        counter = counter + 1\n",
    "    return encodeList\n",
    "\n",
    "\n",
    "def decodeString(encodedList):\n",
    "    pass"
   ]
  },
  {
   "cell_type": "code",
   "execution_count": 6,
   "id": "3eee6256",
   "metadata": {},
   "outputs": [],
   "source": [
    "art = '''\n",
    "\n",
    "                                                                                \n",
    "                                                                                \n",
    "                               %%%%%%%%%%%%%%%%%%%                              \n",
    "                        %%%%%%%%%%%%%%%%%%%%%%%%%%%%%%%%%                       \n",
    "                    %%%%%%%%                         %%%%%%%%                   \n",
    "                %%%%%%%                                   %%%%%%                \n",
    "              %%%%%%                                         %%%%%%             \n",
    "           %%%%%%                                               %%%%%           \n",
    "          %%%%%                                                   %%%%%         \n",
    "        %%%%%                                                       %%%%%       \n",
    "       %%%%                 %%%%%              %%%%%                  %%%%      \n",
    "      %%%%                 %%%%%%%            %%%%%%%                  %%%%     \n",
    "     %%%%                  %%%%%%%            %%%%%%%                   %%%%    \n",
    "    %%%%                   %%%%%%%            %%%%%%%                    %%%%   \n",
    "    %%%%                    %%%%%              %%%%%                     %%%%   \n",
    "   %%%%                                                                   %%%%  \n",
    "   %%%%                                                                   %%%%  \n",
    "   %%%%                                                                   %%%%  \n",
    "   %%%%                                                      %%%%        %%%%   \n",
    "    %%%%       %%%%%%                                        %%%%%       %%%%   \n",
    "    %%%%         %%%%                                       %%%%        %%%%    \n",
    "     %%%%         %%%%                                     %%%%         %%%%    \n",
    "      %%%%         %%%%%                                  %%%%         %%%%     \n",
    "       %%%%%         %%%%%                             %%%%%         %%%%%      \n",
    "        %%%%%          %%%%%%                        %%%%%          %%%%        \n",
    "          %%%%%           %%%%%%%               %%%%%%%           %%%%%         \n",
    "            %%%%%             %%%%%%%%%%%%%%%%%%%%%             %%%%%           \n",
    "              %%%%%%%                                        %%%%%              \n",
    "                 %%%%%%%                                 %%%%%%%                \n",
    "                     %%%%%%%%%                     %%%%%%%%%                    \n",
    "                          %%%%%%%%%%%%%%%%%%%%%%%%%%%%%                         \n",
    "                                   %%%%%%%%%%%%                                 \n",
    "                                                                                \n",
    "                                                                                 \n",
    "\n",
    "'''"
   ]
  },
  {
   "cell_type": "code",
   "execution_count": 7,
   "id": "dec27033",
   "metadata": {},
   "outputs": [
    {
     "ename": "NameError",
     "evalue": "name 'encodeList' is not defined",
     "output_type": "error",
     "traceback": [
      "\u001b[0;31m---------------------------------------------------------------------------\u001b[0m",
      "\u001b[0;31mNameError\u001b[0m                                 Traceback (most recent call last)",
      "Cell \u001b[0;32mIn[7], line 1\u001b[0m\n\u001b[0;32m----> 1\u001b[0m encodedString \u001b[38;5;241m=\u001b[39m \u001b[43mencodeString\u001b[49m\u001b[43m(\u001b[49m\u001b[43mart\u001b[49m\u001b[43m)\u001b[49m\n\u001b[1;32m      2\u001b[0m \u001b[38;5;28mprint\u001b[39m(encodedString)\n",
      "Cell \u001b[0;32mIn[5], line 9\u001b[0m, in \u001b[0;36mencodeString\u001b[0;34m(stringVal)\u001b[0m\n\u001b[1;32m      7\u001b[0m \u001b[38;5;28;01mwhile\u001b[39;00m (counter \u001b[38;5;241m<\u001b[39m \u001b[38;5;28mlen\u001b[39m(lines)):\n\u001b[1;32m      8\u001b[0m     \u001b[38;5;28;01mif\u001b[39;00m \u001b[38;5;28mlen\u001b[39m(artSets[counter]) \u001b[38;5;241m==\u001b[39m \u001b[38;5;241m0\u001b[39m:\n\u001b[0;32m----> 9\u001b[0m        \u001b[43mencodeList\u001b[49m\u001b[38;5;241m.\u001b[39mappend(newlineTuple)\n\u001b[1;32m     10\u001b[0m     \u001b[38;5;28;01melse\u001b[39;00m:\n\u001b[1;32m     11\u001b[0m        \u001b[38;5;28;01mif\u001b[39;00m \u001b[38;5;28mlen\u001b[39m(artSets[counter]) \u001b[38;5;241m==\u001b[39m \u001b[38;5;241m1\u001b[39m:\n",
      "\u001b[0;31mNameError\u001b[0m: name 'encodeList' is not defined"
     ]
    }
   ],
   "source": [
    "encodedString = encodeString(art)\n",
    "print(encodedString)"
   ]
  },
  {
   "cell_type": "code",
   "execution_count": null,
   "id": "942d4ff8",
   "metadata": {},
   "outputs": [],
   "source": [
    "decodeString(encodedString)"
   ]
  },
  {
   "cell_type": "code",
   "execution_count": null,
   "id": "e1485f53",
   "metadata": {},
   "outputs": [],
   "source": []
  }
 ],
 "metadata": {
  "kernelspec": {
   "display_name": "Python 3 (ipykernel)",
   "language": "python",
   "name": "python3"
  },
  "language_info": {
   "codemirror_mode": {
    "name": "ipython",
    "version": 3
   },
   "file_extension": ".py",
   "mimetype": "text/x-python",
   "name": "python",
   "nbconvert_exporter": "python",
   "pygments_lexer": "ipython3",
   "version": "3.12.1"
  },
  "vscode": {
   "interpreter": {
    "hash": "949777d72b0d2535278d3dc13498b2535136f6dfe0678499012e853ee9abcab1"
   }
  }
 },
 "nbformat": 4,
 "nbformat_minor": 5
}
