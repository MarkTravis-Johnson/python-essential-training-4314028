{
 "cells": [
  {
   "cell_type": "markdown",
   "id": "6a6c3649",
   "metadata": {},
   "source": [
    "## ASCII Art Encoding\n",
    "\n",
    "Write a function \"encodeString\" that will encode a string like 'AAAAABBBBAAA' as a list of tuples: [('A', 5), ('B', 4), ('A', 3)] meaning that the string has \"5 A's, followed by 4 B's, followed by 3 A's\"\n",
    "\n",
    "Then use that function to compress a string containing \"ASCII Art\" (https://en.wikipedia.org/wiki/ASCII_art)\n",
    "\n",
    "Write a corresponding function \"decodeString\" that will take in a list of tuples and print the original string.\n"
   ]
  },
  {
   "cell_type": "code",
   "execution_count": 74,
   "id": "7777d38e",
   "metadata": {},
   "outputs": [],
   "source": [
    "def encodeString(stringVal):\n",
    "    lines = stringVal.split('\\n')\n",
    "    artSets = [list(set(line)) for line in stringVal.split('\\n')]\n",
    "    counter = 0\n",
    "    encodeList = [tuple()]\n",
    "    newlineTuple = (1, '\\n')\n",
    "    while (counter < len(lines)):\n",
    "        if len(artSets[counter]) == 0:\n",
    "           encodeList.append(newlineTuple)\n",
    "        else:\n",
    "           if len(artSets[counter]) == 1:\n",
    "               encodeTuple = (len(lines[counter]), artSets[counter][0])\n",
    "               encodeList.append(encodeTuple)\n",
    "               encodeList.append(newlineTuple)\n",
    "           else:\n",
    "               i = 1\n",
    "               countChar = 1\n",
    "               currentLine =  lines[counter]\n",
    "               while (len(currentLine) > i):\n",
    "                    currentChar = currentLine[i -1 ]\n",
    "                    if currentChar == currentLine[i]:\n",
    "                        countChar = countChar + 1\n",
    "                    else:\n",
    "                        encodeTuple = (countChar, currentChar)\n",
    "                        encodeList.append(encodeTuple)\n",
    "                        countChar = 1\n",
    "                        #print('currentChar = \\'' + currentChar + '\\' next Char = \\'' + currentLine[i] + '\\'') \n",
    "                    i = i + 1\n",
    "               encodeTuple = (countChar, currentChar)\n",
    "               #print(encodeTuple)\n",
    "               encodeList.append(encodeTuple)\n",
    "               encodeList.append(newlineTuple)\n",
    "        counter = counter + 1\n",
    "    return encodeList\n",
    "\n",
    "\n",
    "def decodeString(encodedList):\n",
    "    decodedString = ''\n",
    "    for myTuple in encodedList:\n",
    "        if myTuple:\n",
    "            decodedString = decodedString + (myTuple[1] * myTuple[0])\n",
    "    print(decodedString)"
   ]
  },
  {
   "cell_type": "code",
   "execution_count": 56,
   "id": "3eee6256",
   "metadata": {},
   "outputs": [],
   "source": [
    "art = '''\n",
    "\n",
    "                                                                                \n",
    "                                                                                \n",
    "                               %%%%%%%%%%%%%%%%%%%                              \n",
    "                        %%%%%%%%%%%%%%%%%%%%%%%%%%%%%%%%%                       \n",
    "                    %%%%%%%%                         %%%%%%%%                   \n",
    "                %%%%%%%                                   %%%%%%                \n",
    "              %%%%%%                                         %%%%%%             \n",
    "           %%%%%%                                               %%%%%           \n",
    "          %%%%%                                                   %%%%%         \n",
    "        %%%%%                                                       %%%%%       \n",
    "       %%%%                 %%%%%              %%%%%                  %%%%      \n",
    "      %%%%                 %%%%%%%            %%%%%%%                  %%%%     \n",
    "     %%%%                  %%%%%%%            %%%%%%%                   %%%%    \n",
    "    %%%%                   %%%%%%%            %%%%%%%                    %%%%   \n",
    "    %%%%                    %%%%%              %%%%%                     %%%%   \n",
    "   %%%%                                                                   %%%%  \n",
    "   %%%%                                                                   %%%%  \n",
    "   %%%%                                                                   %%%%  \n",
    "   %%%%                                                      %%%%        %%%%   \n",
    "    %%%%       %%%%%%                                        %%%%%       %%%%   \n",
    "    %%%%         %%%%                                       %%%%        %%%%    \n",
    "     %%%%         %%%%                                     %%%%         %%%%    \n",
    "      %%%%         %%%%%                                  %%%%         %%%%     \n",
    "       %%%%%         %%%%%                             %%%%%         %%%%%      \n",
    "        %%%%%          %%%%%%                        %%%%%          %%%%        \n",
    "          %%%%%           %%%%%%%               %%%%%%%           %%%%%         \n",
    "            %%%%%             %%%%%%%%%%%%%%%%%%%%%             %%%%%           \n",
    "              %%%%%%%                                        %%%%%              \n",
    "                 %%%%%%%                                 %%%%%%%                \n",
    "                     %%%%%%%%%                     %%%%%%%%%                    \n",
    "                          %%%%%%%%%%%%%%%%%%%%%%%%%%%%%                         \n",
    "                                   %%%%%%%%%%%%                                 \n",
    "                                                                                \n",
    "                                                                                 \n",
    "\n",
    "'''"
   ]
  },
  {
   "cell_type": "code",
   "execution_count": 62,
   "id": "dec27033",
   "metadata": {},
   "outputs": [
    {
     "name": "stdout",
     "output_type": "stream",
     "text": [
      "[(), (1, '\\n'), (1, '\\n'), (80, ' '), (1, '\\n'), (80, ' '), (1, '\\n'), (31, ' '), (19, '%'), (30, ' '), (1, '\\n'), (24, ' '), (33, '%'), (23, ' '), (1, '\\n'), (20, ' '), (8, '%'), (25, ' '), (8, '%'), (19, ' '), (1, '\\n'), (16, ' '), (7, '%'), (35, ' '), (6, '%'), (16, ' '), (1, '\\n'), (14, ' '), (6, '%'), (41, ' '), (6, '%'), (13, ' '), (1, '\\n'), (11, ' '), (6, '%'), (47, ' '), (5, '%'), (11, ' '), (1, '\\n'), (10, ' '), (5, '%'), (51, ' '), (5, '%'), (9, ' '), (1, '\\n'), (8, ' '), (5, '%'), (55, ' '), (5, '%'), (7, ' '), (1, '\\n'), (7, ' '), (4, '%'), (17, ' '), (5, '%'), (14, ' '), (5, '%'), (18, ' '), (4, '%'), (6, ' '), (1, '\\n'), (6, ' '), (4, '%'), (17, ' '), (7, '%'), (12, ' '), (7, '%'), (18, ' '), (4, '%'), (5, ' '), (1, '\\n'), (5, ' '), (4, '%'), (18, ' '), (7, '%'), (12, ' '), (7, '%'), (19, ' '), (4, '%'), (4, ' '), (1, '\\n'), (4, ' '), (4, '%'), (19, ' '), (7, '%'), (12, ' '), (7, '%'), (20, ' '), (4, '%'), (3, ' '), (1, '\\n'), (4, ' '), (4, '%'), (20, ' '), (5, '%'), (14, ' '), (5, '%'), (21, ' '), (4, '%'), (3, ' '), (1, '\\n'), (3, ' '), (4, '%'), (67, ' '), (4, '%'), (2, ' '), (1, '\\n'), (3, ' '), (4, '%'), (67, ' '), (4, '%'), (2, ' '), (1, '\\n'), (3, ' '), (4, '%'), (67, ' '), (4, '%'), (2, ' '), (1, '\\n'), (3, ' '), (4, '%'), (54, ' '), (4, '%'), (8, ' '), (4, '%'), (3, ' '), (1, '\\n'), (4, ' '), (4, '%'), (7, ' '), (6, '%'), (40, ' '), (5, '%'), (7, ' '), (4, '%'), (3, ' '), (1, '\\n'), (4, ' '), (4, '%'), (9, ' '), (4, '%'), (39, ' '), (4, '%'), (8, ' '), (4, '%'), (4, ' '), (1, '\\n'), (5, ' '), (4, '%'), (9, ' '), (4, '%'), (37, ' '), (4, '%'), (9, ' '), (4, '%'), (4, ' '), (1, '\\n'), (6, ' '), (4, '%'), (9, ' '), (5, '%'), (34, ' '), (4, '%'), (9, ' '), (4, '%'), (5, ' '), (1, '\\n'), (7, ' '), (5, '%'), (9, ' '), (5, '%'), (29, ' '), (5, '%'), (9, ' '), (5, '%'), (6, ' '), (1, '\\n'), (8, ' '), (5, '%'), (10, ' '), (6, '%'), (24, ' '), (5, '%'), (10, ' '), (4, '%'), (8, ' '), (1, '\\n'), (10, ' '), (5, '%'), (11, ' '), (7, '%'), (15, ' '), (7, '%'), (11, ' '), (5, '%'), (9, ' '), (1, '\\n'), (12, ' '), (5, '%'), (13, ' '), (21, '%'), (13, ' '), (5, '%'), (11, ' '), (1, '\\n'), (14, ' '), (7, '%'), (40, ' '), (5, '%'), (14, ' '), (1, '\\n'), (17, ' '), (7, '%'), (33, ' '), (7, '%'), (16, ' '), (1, '\\n'), (21, ' '), (9, '%'), (21, ' '), (9, '%'), (20, ' '), (1, '\\n'), (26, ' '), (29, '%'), (25, ' '), (1, '\\n'), (35, ' '), (12, '%'), (33, ' '), (1, '\\n'), (80, ' '), (1, '\\n'), (81, ' '), (1, '\\n'), (1, '\\n'), (1, '\\n')]\n"
     ]
    }
   ],
   "source": [
    "encodedString = encodeString(art)\n",
    "print(encodedString)"
   ]
  },
  {
   "cell_type": "code",
   "execution_count": 75,
   "id": "942d4ff8",
   "metadata": {},
   "outputs": [
    {
     "name": "stdout",
     "output_type": "stream",
     "text": [
      "\n",
      "\n",
      "                                                                                \n",
      "                                                                                \n",
      "                               %%%%%%%%%%%%%%%%%%%                              \n",
      "                        %%%%%%%%%%%%%%%%%%%%%%%%%%%%%%%%%                       \n",
      "                    %%%%%%%%                         %%%%%%%%                   \n",
      "                %%%%%%%                                   %%%%%%                \n",
      "              %%%%%%                                         %%%%%%             \n",
      "           %%%%%%                                               %%%%%           \n",
      "          %%%%%                                                   %%%%%         \n",
      "        %%%%%                                                       %%%%%       \n",
      "       %%%%                 %%%%%              %%%%%                  %%%%      \n",
      "      %%%%                 %%%%%%%            %%%%%%%                  %%%%     \n",
      "     %%%%                  %%%%%%%            %%%%%%%                   %%%%    \n",
      "    %%%%                   %%%%%%%            %%%%%%%                    %%%%   \n",
      "    %%%%                    %%%%%              %%%%%                     %%%%   \n",
      "   %%%%                                                                   %%%%  \n",
      "   %%%%                                                                   %%%%  \n",
      "   %%%%                                                                   %%%%  \n",
      "   %%%%                                                      %%%%        %%%%   \n",
      "    %%%%       %%%%%%                                        %%%%%       %%%%   \n",
      "    %%%%         %%%%                                       %%%%        %%%%    \n",
      "     %%%%         %%%%                                     %%%%         %%%%    \n",
      "      %%%%         %%%%%                                  %%%%         %%%%     \n",
      "       %%%%%         %%%%%                             %%%%%         %%%%%      \n",
      "        %%%%%          %%%%%%                        %%%%%          %%%%        \n",
      "          %%%%%           %%%%%%%               %%%%%%%           %%%%%         \n",
      "            %%%%%             %%%%%%%%%%%%%%%%%%%%%             %%%%%           \n",
      "              %%%%%%%                                        %%%%%              \n",
      "                 %%%%%%%                                 %%%%%%%                \n",
      "                     %%%%%%%%%                     %%%%%%%%%                    \n",
      "                          %%%%%%%%%%%%%%%%%%%%%%%%%%%%%                         \n",
      "                                   %%%%%%%%%%%%                                 \n",
      "                                                                                \n",
      "                                                                                 \n",
      "\n",
      "\n",
      "\n"
     ]
    }
   ],
   "source": [
    "decodeString(encodedString)"
   ]
  },
  {
   "cell_type": "code",
   "execution_count": null,
   "id": "e1485f53",
   "metadata": {},
   "outputs": [],
   "source": []
  }
 ],
 "metadata": {
  "kernelspec": {
   "display_name": "Python 3 (ipykernel)",
   "language": "python",
   "name": "python3"
  },
  "language_info": {
   "codemirror_mode": {
    "name": "ipython",
    "version": 3
   },
   "file_extension": ".py",
   "mimetype": "text/x-python",
   "name": "python",
   "nbconvert_exporter": "python",
   "pygments_lexer": "ipython3",
   "version": "3.12.1"
  },
  "vscode": {
   "interpreter": {
    "hash": "949777d72b0d2535278d3dc13498b2535136f6dfe0678499012e853ee9abcab1"
   }
  }
 },
 "nbformat": 4,
 "nbformat_minor": 5
}
